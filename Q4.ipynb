{
 "cells": [
  {
   "cell_type": "code",
   "execution_count": 10,
   "metadata": {},
   "outputs": [
    {
     "name": "stdout",
     "output_type": "stream",
     "text": [
      "enter the no of integers:8\n",
      "9\n",
      "6\n",
      "3\n",
      "2\n",
      "5\n",
      "8\n",
      "7\n",
      "4\n",
      "give the lower range:5\n",
      "give the higher range:8\n",
      "enter the integer to check:7\n",
      " 7 is in the range\n"
     ]
    }
   ],
   "source": [
    "r=int(input(\"enter the no of integers:\"))\n",
    "for i in range(r):\n",
    "    s=int(input())\n",
    "l=int(input(\"give the lower range:\"))\n",
    "h=int(input(\"give the higher range:\"))\n",
    "j=int(input(\"enter the integer to check:\"))\n",
    "if j in range(l,h):\n",
    "    print( \" %s is in the range\"%str(j))\n",
    "else :\n",
    "    print(\"The number is outside the given range.\")"
   ]
  }
 ],
 "metadata": {
  "kernelspec": {
   "display_name": "Python 3",
   "language": "python",
   "name": "python3"
  },
  "language_info": {
   "codemirror_mode": {
    "name": "ipython",
    "version": 3
   },
   "file_extension": ".py",
   "mimetype": "text/x-python",
   "name": "python",
   "nbconvert_exporter": "python",
   "pygments_lexer": "ipython3",
   "version": "3.7.6"
  }
 },
 "nbformat": 4,
 "nbformat_minor": 4
}
