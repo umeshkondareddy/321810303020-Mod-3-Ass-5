{
 "cells": [
  {
   "cell_type": "code",
   "execution_count": 10,
   "metadata": {},
   "outputs": [
    {
     "name": "stdout",
     "output_type": "stream",
     "text": [
      "enter a string:How was the first Day Of College?\n",
      "no of upper case characters: 4\n",
      "no of lower case characters: 22\n"
     ]
    }
   ],
   "source": [
    "st=input(\"enter a string:\")\n",
    "count=0\n",
    "c=0\n",
    "for i in st:\n",
    "    if i.isupper():\n",
    "        count+=1\n",
    "    elif i.islower():\n",
    "        c+=1\n",
    "print(\"no of upper case characters:\",count)\n",
    "print(\"no of lower case characters:\",c)"
   ]
  }
 ],
 "metadata": {
  "kernelspec": {
   "display_name": "Python 3",
   "language": "python",
   "name": "python3"
  },
  "language_info": {
   "codemirror_mode": {
    "name": "ipython",
    "version": 3
   },
   "file_extension": ".py",
   "mimetype": "text/x-python",
   "name": "python",
   "nbconvert_exporter": "python",
   "pygments_lexer": "ipython3",
   "version": "3.7.6"
  }
 },
 "nbformat": 4,
 "nbformat_minor": 4
}
